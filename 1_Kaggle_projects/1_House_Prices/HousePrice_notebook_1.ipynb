version https://git-lfs.github.com/spec/v1
oid sha256:0c3fc28a715df08533bf86762e5e9449776ef6339ac88b83b32c4b97110c3441
size 1070034
